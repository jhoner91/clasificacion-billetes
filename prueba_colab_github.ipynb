{
  "nbformat": 4,
  "nbformat_minor": 0,
  "metadata": {
    "colab": {
      "provenance": [],
      "authorship_tag": "ABX9TyNKnmgbEye8zsBylbPTucme",
      "include_colab_link": true
    },
    "kernelspec": {
      "name": "python3",
      "display_name": "Python 3"
    },
    "language_info": {
      "name": "python"
    }
  },
  "cells": [
    {
      "cell_type": "markdown",
      "metadata": {
        "id": "view-in-github",
        "colab_type": "text"
      },
      "source": [
        "<a href=\"https://colab.research.google.com/github/jhoner91/clasificacion-billetes/blob/main/prueba_colab_github.ipynb\" target=\"_parent\"><img src=\"https://colab.research.google.com/assets/colab-badge.svg\" alt=\"Open In Colab\"/></a>"
      ]
    },
    {
      "cell_type": "markdown",
      "source": [
        "suma"
      ],
      "metadata": {
        "id": "kYifkF9WUqPs"
      }
    },
    {
      "cell_type": "code",
      "execution_count": 1,
      "metadata": {
        "id": "pxL3YzWSUomB"
      },
      "outputs": [],
      "source": [
        "a=3\n",
        "b=4"
      ]
    },
    {
      "cell_type": "code",
      "source": [
        "suma=a+b\n",
        "print(\"suma=\",suma)"
      ],
      "metadata": {
        "colab": {
          "base_uri": "https://localhost:8080/"
        },
        "id": "RZD0jYKQU3kO",
        "outputId": "34cbf722-7d76-496d-dbfd-c9b5701cfde2"
      },
      "execution_count": 3,
      "outputs": [
        {
          "output_type": "stream",
          "name": "stdout",
          "text": [
            "suma= 7\n"
          ]
        }
      ]
    }
  ]
}